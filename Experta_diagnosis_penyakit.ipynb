{
  "nbformat": 4,
  "nbformat_minor": 0,
  "metadata": {
    "colab": {
      "provenance": [],
      "mount_file_id": "15qNtIGZ32gTltyw1enLWC3PZHTj8BqyR",
      "authorship_tag": "ABX9TyMXdSg3DizX2wopym3xiW/a",
      "include_colab_link": true
    },
    "kernelspec": {
      "name": "python3",
      "display_name": "Python 3"
    },
    "language_info": {
      "name": "python"
    }
  },
  "cells": [
    {
      "cell_type": "markdown",
      "metadata": {
        "id": "view-in-github",
        "colab_type": "text"
      },
      "source": [
        "<a href=\"https://colab.research.google.com/github/hafizhalfarizi28/Experta-diagnosis-penyakit/blob/main/Experta_diagnosis_penyakit.ipynb\" target=\"_parent\"><img src=\"https://colab.research.google.com/assets/colab-badge.svg\" alt=\"Open In Colab\"/></a>"
      ]
    },
    {
      "cell_type": "code",
      "execution_count": 3,
      "metadata": {
        "colab": {
          "base_uri": "https://localhost:8080/"
        },
        "id": "mXS5aHeT7y0y",
        "outputId": "7f0682e3-5cb5-4505-9724-f155d1a37216"
      },
      "outputs": [
        {
          "output_type": "stream",
          "name": "stdout",
          "text": [
            "Collecting experta\n",
            "  Downloading experta-1.9.4-py3-none-any.whl.metadata (5.0 kB)\n",
            "Collecting frozendict==1.2 (from experta)\n",
            "  Downloading frozendict-1.2.tar.gz (2.6 kB)\n",
            "  Preparing metadata (setup.py) ... \u001b[?25l\u001b[?25hdone\n",
            "Collecting schema==0.6.7 (from experta)\n",
            "  Downloading schema-0.6.7-py2.py3-none-any.whl.metadata (14 kB)\n",
            "Downloading experta-1.9.4-py3-none-any.whl (35 kB)\n",
            "Downloading schema-0.6.7-py2.py3-none-any.whl (14 kB)\n",
            "Building wheels for collected packages: frozendict\n",
            "  Building wheel for frozendict (setup.py) ... \u001b[?25l\u001b[?25hdone\n",
            "  Created wheel for frozendict: filename=frozendict-1.2-py3-none-any.whl size=3149 sha256=afdf918a2068712a66a47c95923669aed662e9cfc7319496d9f46859a3e550b9\n",
            "  Stored in directory: /root/.cache/pip/wheels/49/ac/f8/cb8120244e710bdb479c86198b03c7b08c3c2d3d2bf448fd6e\n",
            "Successfully built frozendict\n",
            "Installing collected packages: schema, frozendict, experta\n",
            "  Attempting uninstall: frozendict\n",
            "    Found existing installation: frozendict 2.4.6\n",
            "    Uninstalling frozendict-2.4.6:\n",
            "      Successfully uninstalled frozendict-2.4.6\n",
            "\u001b[31mERROR: pip's dependency resolver does not currently take into account all the packages that are installed. This behaviour is the source of the following dependency conflicts.\n",
            "yfinance 0.2.55 requires frozendict>=2.3.4, but you have frozendict 1.2 which is incompatible.\u001b[0m\u001b[31m\n",
            "\u001b[0mSuccessfully installed experta-1.9.4 frozendict-1.2 schema-0.6.7\n"
          ]
        }
      ],
      "source": [
        "!pip install experta"
      ]
    },
    {
      "cell_type": "code",
      "source": [
        "!pip install --upgrade frozendict"
      ],
      "metadata": {
        "colab": {
          "base_uri": "https://localhost:8080/"
        },
        "id": "QiLnyFgk78kY",
        "outputId": "8d98752d-085e-4325-d358-36f12a07bcec"
      },
      "execution_count": 4,
      "outputs": [
        {
          "output_type": "stream",
          "name": "stdout",
          "text": [
            "Requirement already satisfied: frozendict in /usr/local/lib/python3.11/dist-packages (1.2)\n",
            "Collecting frozendict\n",
            "  Downloading frozendict-2.4.6-py311-none-any.whl.metadata (23 kB)\n",
            "Downloading frozendict-2.4.6-py311-none-any.whl (16 kB)\n",
            "Installing collected packages: frozendict\n",
            "  Attempting uninstall: frozendict\n",
            "    Found existing installation: frozendict 1.2\n",
            "    Uninstalling frozendict-1.2:\n",
            "      Successfully uninstalled frozendict-1.2\n",
            "\u001b[31mERROR: pip's dependency resolver does not currently take into account all the packages that are installed. This behaviour is the source of the following dependency conflicts.\n",
            "experta 1.9.4 requires frozendict==1.2, but you have frozendict 2.4.6 which is incompatible.\u001b[0m\u001b[31m\n",
            "\u001b[0mSuccessfully installed frozendict-2.4.6\n"
          ]
        }
      ]
    },
    {
      "cell_type": "code",
      "source": [
        "from experta import *\n",
        "\n",
        "class Diagnosis(KnowledgeEngine):\n",
        "    @Rule(Fact(cough=True)& Fact (fever=True)& Fact(fatingue=True))\n",
        "    def flu(self):\n",
        "        print(\"Diagnosa: you may have the flu.\")\n",
        "\n",
        "    @Rule(Fact(cough=True)& Fact (fever=True)& Fact(breathing_difficulty=True))\n",
        "    def pheumonia(self):\n",
        "        print(\"Diagnosis: you may have pheumonis. \")\n",
        "\n",
        "    @Rule(Fact(sneezing=True)& Fact(runny_nose=True)& Fact(cough=False))\n",
        "    def cold(self):\n",
        "        print(\" Diagnosis: you may have a common cold. \")\n",
        "\n",
        "    @Rule(Fact(sore_throat=True)& Fact(fever=True))\n",
        "    def throat_infaction(self):\n",
        "        print(\"Diagnosis: you may have a throat infection. \")\n",
        "\n",
        "    @Rule(Fact(cough=False)& Fact(fever=False)& Fact(fatigue=False))\n",
        "    def healty(self):\n",
        "        print(\"Diagnosis: you seem to be healty. \")\n",
        "\n",
        "def get_input():\n",
        "    \"\"\"helper function to get user input as boolean (yes/no).\"\"\"\n",
        "    def ask_question(question):\n",
        "      return input(question + \" (yes/no) \"). strip().lower() == \"yes\"\n",
        "\n",
        "    return{\n",
        "      \"cough\": ask_question(\"Do you have a cough?\"),\n",
        "      \"fever\": ask_question(\"Do you have a fever?\"),\n",
        "      \"fatigue\": ask_question(\"Do you feel tired\"),\n",
        "      \"sore_throat\": ask_question(\"Do you have a sore throat?\"),\n",
        "      \"runny_nose\": ask_question(\"Do you have a runny nose?\"),\n",
        "      \"sneezing\": ask_question(\"Do you have a sneezing?\"),\n",
        "    }\n",
        "\n",
        "# running the expert system\n",
        "if __name__==\"__main__\":\n",
        "    symptoms = get_input()\n",
        "    engine = Diagnosis()\n",
        "    engine.reset()  #reset the knowledge system\n",
        "\n",
        "    for symptom, present in symptoms.items():\n",
        "      engine.declare(Fact(**{symptom: present}))  #declare facts\n",
        "\n",
        "    engine.run()  #run the expert system"
      ],
      "metadata": {
        "colab": {
          "base_uri": "https://localhost:8080/"
        },
        "id": "AI0L1hMb8L67",
        "outputId": "1605eab3-4bda-419c-db64-81eacbb9a1e3"
      },
      "execution_count": null,
      "outputs": [
        {
          "output_type": "stream",
          "name": "stdout",
          "text": [
            "Do you have a cough? (yes/no) yes\n",
            "Do you have a fever? (yes/no) yes\n",
            "Do you feel tired (yes/no) yes\n",
            "Do you have a sore throat? (yes/no) yes\n",
            "Do you have a runny nose? (yes/no) yes\n",
            "Do you have a sneezing? (yes/no) no\n",
            "Diagnosis: you may have a throat infection. \n"
          ]
        }
      ]
    },
    {
      "cell_type": "code",
      "source": [
        "from experta import *\n",
        "\n",
        "class SistemPakarMedis(KnowledgeEngine):\n",
        "\n",
        "    @Rule(Fact(Demam=True) & Fact(batuk=True))\n",
        "    def flu(self):\n",
        "        print(\"Diagnosis: Anda menderita flu.\")\n",
        "\n",
        "    @Rule(Fact(Sakit_tenggorokan=True) & Fact(demam=True))\n",
        "    def throat_infection(self):\n",
        "        print(\"Dianosis: Radang Tenggorokan. \")\n",
        "\n",
        "    @Rule(Fact(Demam=True) & Fact(nyeri_kepala=True) & Fact(muntah=True) & Fact(Trombosit_turun=True))\n",
        "    def DBD(self):\n",
        "        print(\"Diagnosis: Anda menderita demam berdarah(DBD).\")\n",
        "\n",
        "    @Rule(Fact(Diare=True) & Fact(Dehidrasi=True) & Fact(Muntah=True))\n",
        "    def Gastroenteritis(self):\n",
        "        print(\"Diagnosis: Anda terindikasi keracunan makanan/infeksi usus. \")\n",
        "\n",
        "    @Rule(Fact(Batuk_lama=True) & Fact(Berat_badan_turun=True) & Fact(Keringat_malam=True))\n",
        "    def Tuberkulosis(self):\n",
        "        print(\"Diagnosis: anda menderita tuberkulosis (TBC).\")\n",
        "\n",
        "    @Rule(Fact(Kulit_kuning=True) & Fact(Urin_gelap=True) & Fact(Lemas=True) & Fact(Mual=True))\n",
        "    def Hepatitis(self):\n",
        "        print(\"Diagnosis: Anda menderita hepatitis A. \")\n",
        "\n",
        "#running the expert system\n",
        "engine = SistemPakarMedis()\n",
        "engine.reset()\n",
        "engine.declare(Fact(Kulit_kuning=True))\n",
        "engine.declare(Fact(Urin_gelap=True))  #input symptoms\n",
        "engine.declare(Fact(Lemas=True))\n",
        "engine.declare(Fact(Mual=True))\n",
        "engine.run()"
      ],
      "metadata": {
        "colab": {
          "base_uri": "https://localhost:8080/"
        },
        "id": "LWAURr5pFij7",
        "outputId": "9519ee4b-a4ae-4153-d3aa-9dac50628fc4"
      },
      "execution_count": 10,
      "outputs": [
        {
          "output_type": "stream",
          "name": "stdout",
          "text": [
            "Diagnosis: Anda menderita hepatitis A. \n"
          ]
        }
      ]
    },
    {
      "cell_type": "code",
      "source": [
        "def forward_chaining(facts, rules):\n",
        "    inferred = set(facts)\n",
        "    changed = True\n",
        "\n",
        "    while changed:\n",
        "        changed = False\n",
        "        for rule in rules:\n",
        "            if rule[\"if\"].issubset(infarred) and rule[\"then\"]not in infarred:\n",
        "                infarred.add(rule[\"then\"])\n",
        "                changed = True\n",
        "    return infarred\n",
        "\n",
        "def forward_chaining(facts, rules):\n",
        "    inferred = set(facts)\n",
        "    changed = True\n",
        "\n",
        "    while changed:\n",
        "        changed = False\n",
        "        for rule in rules:\n",
        "            if rule[\"if\"].issubset(inferred) and rule[\"then\"] not in inferred:\n",
        "                inferred.add(rule[\"then\"])\n",
        "                changed = True\n",
        "    return inferred\n",
        "\n",
        "facts = {\"has feathers\", \"can_fly\", \"lays_eggs\"}\n",
        "rules = [\n",
        "    {\"if\": {\"has_feathers\", \"can_fly\"}, \"then\": \"is_bird\"},\n",
        "    {\"if\": {\"lasy_eggs\", \"is_bird\"}, \"then\": \"is_chicken\"},\n",
        "]\n",
        "\n",
        "result = forward_chaining(facts, rules)\n",
        "print(\"inferred facts\", result)"
      ],
      "metadata": {
        "colab": {
          "base_uri": "https://localhost:8080/"
        },
        "id": "PjOvMX2AKbz1",
        "outputId": "fabfd9ea-bba8-4d8b-b97c-82b0b3e2d0e5"
      },
      "execution_count": null,
      "outputs": [
        {
          "output_type": "stream",
          "name": "stdout",
          "text": [
            "inferred facts {'can_fly', 'lays_eggs', 'has feathers'}\n"
          ]
        }
      ]
    },
    {
      "cell_type": "code",
      "source": [
        "def backward_chaining(goal, facts, rules):\n",
        "    if goal in facts:\n",
        "        return True\n",
        "    for rule in rules:\n",
        "        if rule [\"then\"] == goal:\n",
        "            if all(backward_chaining(cond, facts, rules) for cond in rule[\"if\"]):\n",
        "                  return True\n",
        "    return False\n",
        "\n",
        "def backward_chaining(goal, facts, rules):\n",
        "    if goal in facts:\n",
        "        return True\n",
        "    for rule in rules:\n",
        "        if rule[\"then\"] == goal:\n",
        "            if all(backward_chaining(cond, facts, rules) for cond in rule[\"if\"]):\n",
        "                  return True\n",
        "    return False\n",
        "\n",
        "facts = {\"likes_computer\", \"solver_problem\"}\n",
        "rules = [\n",
        "    {\"if\": {\"likes_computer\", \"solves_problem\"}, \"then\": \"shoulde_be_enginer\"},\n",
        "    {\"if\": {\"should_be_enginer\", \"likes_programing\"}, \"then\": \"software_enginer\"}\n",
        "]\n",
        "\n",
        "goal = \"software_enginer\"\n",
        "result = backward_chaining(goal, facts, rules)\n",
        "print(f\"is '{goal}' provable? ->\", result)"
      ],
      "metadata": {
        "colab": {
          "base_uri": "https://localhost:8080/"
        },
        "id": "wkxnsku8PaKD",
        "outputId": "068b8f2c-66b5-4e04-932f-7f7410590472"
      },
      "execution_count": null,
      "outputs": [
        {
          "output_type": "stream",
          "name": "stdout",
          "text": [
            "is 'software_enginer' provable? -> False\n"
          ]
        }
      ]
    },
    {
      "cell_type": "code",
      "source": [
        "def forward_chaining(facts, rules):\n",
        "    inferred = set(facts)\n",
        "    changed = True\n",
        "\n",
        "    while changed:\n",
        "        changed = False\n",
        "        for rule in rules:\n",
        "            if rule[\"if\"].issubset(infarred) and rule[\"then\"]not in infarred:\n",
        "                infarred.add(rule[\"then\"])\n",
        "                changed = True\n",
        "    return infarred\n",
        "\n",
        "def forward_chaining(facts, rules):\n",
        "    inferred = set(facts)\n",
        "    changed = True\n",
        "\n",
        "    while changed:\n",
        "        changed = False\n",
        "        for rule in rules:\n",
        "            if rule[\"if\"].issubset(inferred) and rule[\"then\"] not in inferred:\n",
        "                inferred.add(rule[\"then\"])\n",
        "                changed = True\n",
        "    return inferred\n",
        "\n",
        "facts = {\"has_wheels\", \"has_engine\", \"has_four_wheels\"}\n",
        "rules = [\n",
        "    {\"if\": {\"has_wheels\", \"has_engine\"}, \"then\": \"is_vehicle\"},\n",
        "    {\"if\": {\"is_vehicle\", \"has_two_wheels\"}, \"then\": \"is_motorcycle\"},\n",
        "    {\"if\": {\"is_vehicle\", \"has_four_wheels\"}, \"then\": \"is_car\"},\n",
        "]\n",
        "\n",
        "result = forward_chaining(facts, rules)\n",
        "print(\"inferred facts\", result)"
      ],
      "metadata": {
        "colab": {
          "base_uri": "https://localhost:8080/"
        },
        "id": "SsUrWs7RTJad",
        "outputId": "a4999494-4eb4-4ac5-a9f7-66c02aa27784"
      },
      "execution_count": null,
      "outputs": [
        {
          "output_type": "stream",
          "name": "stdout",
          "text": [
            "inferred facts {'has_engine', 'has_wheels', 'is_car', 'is_vehicle', 'has_four_wheels'}\n"
          ]
        }
      ]
    },
    {
      "cell_type": "code",
      "source": [
        "def backward_chaining(goal, facts, rules):\n",
        "    if goal in facts:\n",
        "        return True\n",
        "    for rule in rules:\n",
        "        if rule [\"then\"] == goal:\n",
        "            if all(backward_chaining(cond, facts, rules) for cond in rule[\"if\"]):\n",
        "                  return True\n",
        "    return False\n",
        "\n",
        "def backward_chaining(goal, facts, rules):\n",
        "    if goal in facts:\n",
        "        return True\n",
        "    for rule in rules:\n",
        "        if rule[\"then\"] == goal:\n",
        "            if all(backward_chaining(cond, facts, rules) for cond in rule[\"if\"]):\n",
        "                  return True\n",
        "    return False\n",
        "\n",
        "facts = {\"has_feathers\", \"has_small_wings\"}\n",
        "rules = [\n",
        "    {\"if\": {\"is_bird\", \"cannot_fly\"}, \"then\": \"is_penguin\"},\n",
        "    {\"if\": {\"has_feathers\"}, \"then\": \"is_bird\"},\n",
        "    {\"if\": {\"has_small_wings\"}, \"then\": \"cannot_fly\"}\n",
        "]\n",
        "\n",
        "goal = \"is_penguin\"\n",
        "result = backward_chaining(goal, facts, rules)\n",
        "print(f\"is '{goal}' provable? ->\", result)"
      ],
      "metadata": {
        "colab": {
          "base_uri": "https://localhost:8080/"
        },
        "id": "3kQguTZwVcXT",
        "outputId": "9d1ccc82-1add-4739-b5f5-14f364c40baa"
      },
      "execution_count": null,
      "outputs": [
        {
          "output_type": "stream",
          "name": "stdout",
          "text": [
            "is 'is_penguin' provable? -> True\n"
          ]
        }
      ]
    }
  ]
}